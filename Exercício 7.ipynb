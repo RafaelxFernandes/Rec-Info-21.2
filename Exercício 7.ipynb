{
 "cells": [
  {
   "cell_type": "markdown",
   "id": "0664ee86",
   "metadata": {},
   "source": [
    "### Código feito por Rafael da Silva Fernandes - DRE: 117196229"
   ]
  },
  {
   "cell_type": "markdown",
   "id": "334cc370",
   "metadata": {},
   "source": [
    "## Importando bibliotecas"
   ]
  },
  {
   "cell_type": "code",
   "execution_count": 1,
   "id": "9e923ccf",
   "metadata": {},
   "outputs": [],
   "source": [
    "import numpy as np"
   ]
  },
  {
   "cell_type": "markdown",
   "id": "4b1cfe18",
   "metadata": {},
   "source": [
    "## Variáveis globais"
   ]
  },
  {
   "cell_type": "code",
   "execution_count": 2,
   "id": "fb8fabeb",
   "metadata": {},
   "outputs": [],
   "source": [
    "pagerank_inicial = np.array([1/4, 1/4, 1/4, 1/4])\n",
    "\n",
    "pagerank_simplificado = np.array([\n",
    "    [0, 0, 1, 0],\n",
    "    [1/2, 0, 0, 0],\n",
    "    [1/2, 1, 0, 1],\n",
    "    [0, 0, 0, 0]\n",
    "])"
   ]
  },
  {
   "cell_type": "markdown",
   "id": "4c0196d3",
   "metadata": {},
   "source": [
    "## Funções"
   ]
  },
  {
   "cell_type": "markdown",
   "id": "d5a89256",
   "metadata": {},
   "source": [
    "### Pagerank"
   ]
  },
  {
   "cell_type": "code",
   "execution_count": 3,
   "id": "2de81cab",
   "metadata": {},
   "outputs": [],
   "source": [
    "def pagerank(pagerank_simplificado, beta = 0.8):\n",
    "    \n",
    "    T = pagerank_simplificado.shape[0] \n",
    "    \n",
    "    return ((1-beta)/ T) + (beta * pagerank_simplificado)"
   ]
  },
  {
   "cell_type": "markdown",
   "id": "1c9a11f7",
   "metadata": {},
   "source": [
    "#### Teste função"
   ]
  },
  {
   "cell_type": "code",
   "execution_count": 4,
   "id": "dfa93bce",
   "metadata": {},
   "outputs": [
    {
     "name": "stdout",
     "output_type": "stream",
     "text": [
      "0.04999999999999999\n",
      "[[0.09 0.09 0.73 0.09]\n",
      " [0.41 0.09 0.09 0.09]\n",
      " [0.41 0.73 0.09 0.73]\n",
      " [0.09 0.09 0.09 0.09]]\n"
     ]
    },
    {
     "data": {
      "text/plain": [
       "(4, 4)"
      ]
     },
     "execution_count": 4,
     "metadata": {},
     "output_type": "execute_result"
    }
   ],
   "source": [
    "print(pagerank(pagerank_simplificado)[0][0])\n",
    "print(pagerank(pagerank(pagerank_simplificado)))\n",
    "\n",
    "pagerank_simplificado.shape"
   ]
  },
  {
   "cell_type": "code",
   "execution_count": 5,
   "id": "c7c6ff06",
   "metadata": {},
   "outputs": [],
   "source": [
    "def pagerank_iteracao(pagerank_simplificado):\n",
    "    \n",
    "    threshold = 0.0001\n",
    "    n_iteracoes = 0\n",
    "    \n",
    "    while True:\n",
    "        \n",
    "        for linha in range(pagerank_simplificado.shape[0]):\n",
    "            for coluna in range(pagerank_simplificado.shape[1]):\n",
    "\n",
    "                pagerank_resultado = pagerank(pagerank_simplificado)\n",
    "                diferenca = pagerank_resultado[linha][coluna] - pagerank_simplificado[linha][coluna]\n",
    "                \n",
    "                if diferenca < threshold:\n",
    "                    print(\"Número de iterações = \", n_iteracoes)\n",
    "                    \n",
    "                    pagerank_final = pagerank_resultado.sum(axis = 1)\n",
    "                    print(\"Page rank = \", pagerank_final)\n",
    "                    print(\"Rankeamento = \", np.argsort(pagerank_final)[::-1])\n",
    "                    \n",
    "                    return\n",
    "                \n",
    "                pagerank_simplificado = pagerank_resultado\n",
    "                n_iteracoes += 1"
   ]
  },
  {
   "cell_type": "markdown",
   "id": "58f4e8f8",
   "metadata": {},
   "source": [
    "#### Teste função"
   ]
  },
  {
   "cell_type": "code",
   "execution_count": 6,
   "id": "4e795b0d",
   "metadata": {},
   "outputs": [
    {
     "name": "stdout",
     "output_type": "stream",
     "text": [
      "Número de iterações =  2\n",
      "Page rank =  [1.    0.744 1.768 0.488]\n",
      "Rankeamento =  [2 0 1 3]\n"
     ]
    }
   ],
   "source": [
    "pagerank_iteracao(pagerank_simplificado)"
   ]
  }
 ],
 "metadata": {
  "kernelspec": {
   "display_name": "Python 3 (ipykernel)",
   "language": "python",
   "name": "python3"
  },
  "language_info": {
   "codemirror_mode": {
    "name": "ipython",
    "version": 3
   },
   "file_extension": ".py",
   "mimetype": "text/x-python",
   "name": "python",
   "nbconvert_exporter": "python",
   "pygments_lexer": "ipython3",
   "version": "3.9.9"
  }
 },
 "nbformat": 4,
 "nbformat_minor": 5
}
