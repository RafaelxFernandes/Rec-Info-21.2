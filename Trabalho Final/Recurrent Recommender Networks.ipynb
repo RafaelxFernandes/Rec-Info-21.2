{
 "cells": [
  {
   "cell_type": "markdown",
   "id": "4d787bfb",
   "metadata": {},
   "source": [
    "# Recurrent Recommender Networks\n",
    "## Trabalho Final da disciplina de Recuperação da Informação - UFRJ 2021.2\n",
    "##  Feito por Rafael da Silva Fernandes - DRE: 117196229\n",
    "### Artigo original: \n",
    "[Wu, Chao-Yuan, et al. \"Recurrent recommender networks.\" Proceedings of the tenth ACM international conference on web search and data mining. 2017.](https://dl.acm.org/doi/epdf/10.1145/3018661.3018689)"
   ]
  },
  {
   "cell_type": "markdown",
   "id": "c4781675",
   "metadata": {},
   "source": [
    "## Importando bibliotecas"
   ]
  },
  {
   "cell_type": "code",
   "execution_count": 1,
   "id": "89f5e269",
   "metadata": {},
   "outputs": [],
   "source": [
    "import sys\n",
    "import pandas as pd\n",
    "import numpy as np\n",
    "import tensorflow.compat.v1 as tf\n",
    "import tensorflow.nn as nn\n",
    "\n",
    "import time\n",
    "import warnings\n",
    "warnings.filterwarnings('ignore')"
   ]
  },
  {
   "cell_type": "markdown",
   "id": "f49584f3",
   "metadata": {},
   "source": [
    "## Hiperparâmetros"
   ]
  },
  {
   "cell_type": "code",
   "execution_count": 2,
   "id": "60250459",
   "metadata": {},
   "outputs": [],
   "source": [
    "batch_size = 50\n",
    "hidden_size = 128\n",
    "out_size = 64\n",
    "n_step = 1\n",
    "learning_rate = 0.01\n",
    "verbose = 10"
   ]
  },
  {
   "cell_type": "markdown",
   "id": "857d62a4",
   "metadata": {},
   "source": [
    "## Pré-processamento"
   ]
  },
  {
   "cell_type": "code",
   "execution_count": 3,
   "id": "291a9478",
   "metadata": {},
   "outputs": [
    {
     "data": {
      "text/html": [
       "<div>\n",
       "<style scoped>\n",
       "    .dataframe tbody tr th:only-of-type {\n",
       "        vertical-align: middle;\n",
       "    }\n",
       "\n",
       "    .dataframe tbody tr th {\n",
       "        vertical-align: top;\n",
       "    }\n",
       "\n",
       "    .dataframe thead th {\n",
       "        text-align: right;\n",
       "    }\n",
       "</style>\n",
       "<table border=\"1\" class=\"dataframe\">\n",
       "  <thead>\n",
       "    <tr style=\"text-align: right;\">\n",
       "      <th></th>\n",
       "      <th>UserID</th>\n",
       "      <th>MovieID</th>\n",
       "      <th>Rating</th>\n",
       "      <th>TimeStamp</th>\n",
       "    </tr>\n",
       "  </thead>\n",
       "  <tbody>\n",
       "    <tr>\n",
       "      <th>1000138</th>\n",
       "      <td>6040</td>\n",
       "      <td>858</td>\n",
       "      <td>4</td>\n",
       "      <td>956703932</td>\n",
       "    </tr>\n",
       "    <tr>\n",
       "      <th>1000153</th>\n",
       "      <td>6040</td>\n",
       "      <td>2384</td>\n",
       "      <td>4</td>\n",
       "      <td>956703954</td>\n",
       "    </tr>\n",
       "    <tr>\n",
       "      <th>999873</th>\n",
       "      <td>6040</td>\n",
       "      <td>593</td>\n",
       "      <td>5</td>\n",
       "      <td>956703954</td>\n",
       "    </tr>\n",
       "    <tr>\n",
       "      <th>1000007</th>\n",
       "      <td>6040</td>\n",
       "      <td>1961</td>\n",
       "      <td>4</td>\n",
       "      <td>956703977</td>\n",
       "    </tr>\n",
       "    <tr>\n",
       "      <th>1000192</th>\n",
       "      <td>6040</td>\n",
       "      <td>2019</td>\n",
       "      <td>5</td>\n",
       "      <td>956703977</td>\n",
       "    </tr>\n",
       "  </tbody>\n",
       "</table>\n",
       "</div>"
      ],
      "text/plain": [
       "         UserID  MovieID  Rating  TimeStamp\n",
       "1000138    6040      858       4  956703932\n",
       "1000153    6040     2384       4  956703954\n",
       "999873     6040      593       5  956703954\n",
       "1000007    6040     1961       4  956703977\n",
       "1000192    6040     2019       5  956703977"
      ]
     },
     "execution_count": 3,
     "metadata": {},
     "output_type": "execute_result"
    }
   ],
   "source": [
    "ratings_title = ['UserID', 'MovieID', 'Rating', 'TimeStamp']\n",
    "\n",
    "ratings = pd.read_table(\"ratings.dat\", sep = '::', header = None, names = ratings_title, engine = 'python')\n",
    "ratings = ratings.sort_values(by = ['TimeStamp'])\n",
    "ratings.head()"
   ]
  },
  {
   "cell_type": "code",
   "execution_count": 4,
   "id": "bb1ecf24",
   "metadata": {},
   "outputs": [],
   "source": [
    "num_users = max(ratings['UserID'])\n",
    "num_movies = max(ratings['MovieID'])"
   ]
  },
  {
   "cell_type": "markdown",
   "id": "2c977898",
   "metadata": {},
   "source": [
    "## Preparando o modelo"
   ]
  },
  {
   "cell_type": "markdown",
   "id": "e68777be",
   "metadata": {},
   "source": [
    "### Placeholders"
   ]
  },
  {
   "cell_type": "code",
   "execution_count": 5,
   "id": "45627f1b",
   "metadata": {},
   "outputs": [],
   "source": [
    "tf.disable_eager_execution()\n",
    "\n",
    "userID = tf.placeholder(tf.int32, shape = [None, 1], name = 'userID')\n",
    "movieID = tf.placeholder(tf.int32, shape = [None, 1], name = 'movieID')\n",
    "rating = tf.placeholder(tf.float32, shape = [None, 1], name = 'rating')\n",
    "dropout = tf.placeholder(tf.float32, name = 'dropout')"
   ]
  },
  {
   "cell_type": "markdown",
   "id": "0ef11971",
   "metadata": {},
   "source": [
    "### User embedding layer and lookup"
   ]
  },
  {
   "cell_type": "code",
   "execution_count": 6,
   "id": "02255c8b",
   "metadata": {},
   "outputs": [],
   "source": [
    "with tf.variable_scope(\"userID_embedding\", reuse = tf.AUTO_REUSE):\n",
    "\n",
    "    Embedding_User = tf.get_variable(\n",
    "        name = \"embedding_users\", \n",
    "        shape=  [num_users, hidden_size],\n",
    "        initializer = tf.glorot_uniform_initializer()\n",
    "    )\n",
    "    \n",
    "    uid_layer = nn.embedding_lookup(Embedding_User, userID)\n",
    "    uid_layer = nn.relu(uid_layer)"
   ]
  },
  {
   "cell_type": "markdown",
   "id": "7db1c717",
   "metadata": {},
   "source": [
    "### Movie embedding layer and lookup"
   ]
  },
  {
   "cell_type": "code",
   "execution_count": 7,
   "id": "9a02b801",
   "metadata": {},
   "outputs": [],
   "source": [
    "with tf.variable_scope(\"movie_embedding\", reuse = tf.AUTO_REUSE):\n",
    "    \n",
    "    Embedding_Item = tf.get_variable(\n",
    "        name = \"embedding_items\", \n",
    "        shape = [num_movies, hidden_size],\n",
    "        initializer=tf.glorot_uniform_initializer()\n",
    "    )\n",
    "    \n",
    "    mid_layer = nn.embedding_lookup(Embedding_Item, movieID)\n",
    "    mid_layer = nn.relu(mid_layer)"
   ]
  },
  {
   "cell_type": "markdown",
   "id": "83d088d6",
   "metadata": {},
   "source": [
    "### Feedforward do User para a Rede Neural Recorrente (Recurrent Neural Networks)"
   ]
  },
  {
   "cell_type": "code",
   "execution_count": 8,
   "id": "9a32ae66",
   "metadata": {},
   "outputs": [
    {
     "name": "stdout",
     "output_type": "stream",
     "text": [
      "WARNING:tensorflow:From C:\\Users\\USURIO~2\\AppData\\Local\\Temp/ipykernel_11096/1590587392.py:5: dynamic_rnn (from tensorflow.python.ops.rnn) is deprecated and will be removed in a future version.\n",
      "Instructions for updating:\n",
      "Please use `keras.layers.RNN(cell)`, which is equivalent to this API\n"
     ]
    }
   ],
   "source": [
    "with tf.variable_scope(\"user_rnn_cell\", reuse = tf.AUTO_REUSE):\n",
    "    \n",
    "    userCell = tf.keras.layers.LSTMCell(hidden_size)\n",
    "    userInput = tf.transpose(uid_layer, [1, 0, 2])\n",
    "    userOutputs, userStates = tf.nn.dynamic_rnn(userCell, userInput, dtype = tf.float32)\n",
    "    userOutput = userOutputs[-1]"
   ]
  },
  {
   "cell_type": "markdown",
   "id": "8caee2c4",
   "metadata": {},
   "source": [
    "### Feedforward do Movie para a RNN"
   ]
  },
  {
   "cell_type": "code",
   "execution_count": 9,
   "id": "d5aa7b62",
   "metadata": {},
   "outputs": [],
   "source": [
    "with tf.variable_scope(\"movie_rnn_cell\", reuse = tf.AUTO_REUSE):\n",
    "    \n",
    "    movieCell = tf.keras.layers.LSTMCell(hidden_size)\n",
    "    movieInput = tf.transpose(mid_layer, [1, 0, 2])\n",
    "    movieOutputs, movieStates = tf.nn.dynamic_rnn(movieCell, movieInput, dtype = tf.float32)\n",
    "    movieOutput = movieOutputs[-1]"
   ]
  },
  {
   "cell_type": "markdown",
   "id": "b8af81f1",
   "metadata": {},
   "source": [
    "### Previsão do Rating"
   ]
  },
  {
   "cell_type": "code",
   "execution_count": 10,
   "id": "184f05d2",
   "metadata": {},
   "outputs": [],
   "source": [
    "with tf.variable_scope(\"pred_layer\", reuse = tf.AUTO_REUSE):\n",
    "    \n",
    "    userVector = tf.layers.dense(userOutput, out_size, activation = None)\n",
    "    movieVector = tf.layers.dense(movieOutput, out_size, activation = None)\n",
    "                \n",
    "    pred = tf.reduce_sum(tf.multiply(userVector, movieVector), axis = 1, keepdims = True)"
   ]
  },
  {
   "cell_type": "markdown",
   "id": "4efea2f3",
   "metadata": {},
   "source": [
    "### Loss"
   ]
  },
  {
   "cell_type": "code",
   "execution_count": 11,
   "id": "58e0dc59",
   "metadata": {},
   "outputs": [],
   "source": [
    "loss = tf.reduce_mean(tf.losses.mean_squared_error(rating, pred))"
   ]
  },
  {
   "cell_type": "markdown",
   "id": "ef8c8be0",
   "metadata": {},
   "source": [
    "### Otimizador"
   ]
  },
  {
   "cell_type": "code",
   "execution_count": 12,
   "id": "9584afe7",
   "metadata": {},
   "outputs": [],
   "source": [
    "optimizer = tf.train.AdamOptimizer(learning_rate).minimize(loss)"
   ]
  },
  {
   "cell_type": "markdown",
   "id": "3343d315",
   "metadata": {},
   "source": [
    "## Treinando o modelo"
   ]
  },
  {
   "cell_type": "code",
   "execution_count": 13,
   "id": "71d7431b",
   "metadata": {},
   "outputs": [],
   "source": [
    "sess = tf.Session() \n",
    "sess.run(tf.global_variables_initializer())"
   ]
  },
  {
   "cell_type": "code",
   "execution_count": 14,
   "id": "6b28a109",
   "metadata": {},
   "outputs": [
    {
     "name": "stdout",
     "output_type": "stream",
     "text": [
      "20000/ 20005： loss = 0.9647672772407532\n",
      "Levou um total de: 4246.4992781 segundos.\n"
     ]
    }
   ],
   "source": [
    "train = ratings.values\n",
    "length = len(train)\n",
    "batches = int(length/ batch_size) + 1\n",
    "\n",
    "train_loss = []\n",
    "\n",
    "start_time = time.perf_counter()\n",
    "\n",
    "for i in range(batches):\n",
    "    \n",
    "    minIdx = i * batch_size\n",
    "    maxIdx = min(length, (i + 1) * batch_size)\n",
    "    \n",
    "    train_batch = train[minIdx:maxIdx]\n",
    "    \n",
    "    inputs = np.array([(i[0] - 1, i[1] - 1, float(i[2])) for i in train_batch])\n",
    "    \n",
    "    feed_dict = {\n",
    "        userID: np.expand_dims(inputs[:, 0], 1), \n",
    "        movieID: np.expand_dims(inputs[:, 1], 1), \n",
    "        rating: np.expand_dims(inputs[:, 2], 1), dropout: 1.\n",
    "    }\n",
    "\n",
    "    _, batch_loss = sess.run([optimizer, loss], feed_dict=feed_dict)\n",
    "    train_loss.append(batch_loss)\n",
    "\n",
    "    if verbose and i % verbose == 0:\n",
    "        sys.stdout.write('\\r{}/ {}： loss = {}'.format(\n",
    "            i, batches, np.sqrt(np.mean(train_loss[-20:]))\n",
    "        ))\n",
    "        sys.stdout.flush()\n",
    "        \n",
    "total_time = time.perf_counter() - start_time\n",
    "print(\"\\nLevou um total de: \" +  str(total_time) + \" segundos.\")"
   ]
  },
  {
   "cell_type": "markdown",
   "id": "538a1891",
   "metadata": {},
   "source": [
    "### Avaliação dos últimos 1000"
   ]
  },
  {
   "cell_type": "code",
   "execution_count": 15,
   "id": "64b22600",
   "metadata": {},
   "outputs": [
    {
     "data": {
      "text/html": [
       "<div>\n",
       "<style scoped>\n",
       "    .dataframe tbody tr th:only-of-type {\n",
       "        vertical-align: middle;\n",
       "    }\n",
       "\n",
       "    .dataframe tbody tr th {\n",
       "        vertical-align: top;\n",
       "    }\n",
       "\n",
       "    .dataframe thead th {\n",
       "        text-align: right;\n",
       "    }\n",
       "</style>\n",
       "<table border=\"1\" class=\"dataframe\">\n",
       "  <thead>\n",
       "    <tr style=\"text-align: right;\">\n",
       "      <th></th>\n",
       "      <th>act</th>\n",
       "      <th>pred</th>\n",
       "    </tr>\n",
       "  </thead>\n",
       "  <tbody>\n",
       "    <tr>\n",
       "      <th>0</th>\n",
       "      <td>5.0</td>\n",
       "      <td>4.613207</td>\n",
       "    </tr>\n",
       "    <tr>\n",
       "      <th>1</th>\n",
       "      <td>4.0</td>\n",
       "      <td>4.559071</td>\n",
       "    </tr>\n",
       "    <tr>\n",
       "      <th>2</th>\n",
       "      <td>5.0</td>\n",
       "      <td>4.070119</td>\n",
       "    </tr>\n",
       "    <tr>\n",
       "      <th>3</th>\n",
       "      <td>5.0</td>\n",
       "      <td>4.357347</td>\n",
       "    </tr>\n",
       "    <tr>\n",
       "      <th>4</th>\n",
       "      <td>5.0</td>\n",
       "      <td>4.232045</td>\n",
       "    </tr>\n",
       "  </tbody>\n",
       "</table>\n",
       "</div>"
      ],
      "text/plain": [
       "   act      pred\n",
       "0  5.0  4.613207\n",
       "1  4.0  4.559071\n",
       "2  5.0  4.070119\n",
       "3  5.0  4.357347\n",
       "4  5.0  4.232045"
      ]
     },
     "execution_count": 15,
     "metadata": {},
     "output_type": "execute_result"
    }
   ],
   "source": [
    "train_batch = train[-1000:]\n",
    "\n",
    "inputs = np.array([(i[0] - 1, i[1] - 1, float(i[2])) for i in train_batch])\n",
    "\n",
    "feed_dict = {\n",
    "    userID: np.expand_dims(inputs[:, 0], 1), \n",
    "    movieID: np.expand_dims(inputs[:, 1], 1), \n",
    "    rating: np.expand_dims(inputs[:, 2], 1), dropout: 1.\n",
    "}\n",
    "\n",
    "p = sess.run(pred, feed_dict = feed_dict)\n",
    "df = pd.DataFrame({'act': inputs[:, 2], 'pred': p.reshape(-1)})\n",
    "df.head()"
   ]
  },
  {
   "cell_type": "markdown",
   "id": "a9b984f0",
   "metadata": {},
   "source": [
    "### RMSE, MAE e MAPE"
   ]
  },
  {
   "cell_type": "code",
   "execution_count": 16,
   "id": "4acd1e75",
   "metadata": {},
   "outputs": [
    {
     "name": "stdout",
     "output_type": "stream",
     "text": [
      "Avaliação dos últimos 1000\n",
      "RMSE: 0.8138423636782184 | MAE: 0.7161470744609832 | MAPE: 27.426932344834004\n"
     ]
    }
   ],
   "source": [
    "a = df['act'].values - df['pred'].values\n",
    "\n",
    "rmse = np.mean(np.power(a, 2))\n",
    "mae = np.mean(np.abs(a))\n",
    "mape = np.mean(np.abs(a/ df['act'].values)) * 100\n",
    "\n",
    "print(\"Avaliação dos últimos 1000\")\n",
    "print(\"RMSE:\", rmse, \"| MAE:\", mae, \"| MAPE:\", mape)"
   ]
  }
 ],
 "metadata": {
  "kernelspec": {
   "display_name": "Python 3 (ipykernel)",
   "language": "python",
   "name": "python3"
  },
  "language_info": {
   "codemirror_mode": {
    "name": "ipython",
    "version": 3
   },
   "file_extension": ".py",
   "mimetype": "text/x-python",
   "name": "python",
   "nbconvert_exporter": "python",
   "pygments_lexer": "ipython3",
   "version": "3.9.9"
  }
 },
 "nbformat": 4,
 "nbformat_minor": 5
}
