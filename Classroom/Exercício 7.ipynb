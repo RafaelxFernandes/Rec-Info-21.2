{
 "cells": [
  {
   "cell_type": "markdown",
   "id": "0664ee86",
   "metadata": {},
   "source": [
    "### Código feito por Rafael da Silva Fernandes - DRE: 117196229"
   ]
  },
  {
   "cell_type": "markdown",
   "id": "334cc370",
   "metadata": {},
   "source": [
    "## Importando bibliotecas"
   ]
  },
  {
   "cell_type": "code",
   "execution_count": 19,
   "id": "9e923ccf",
   "metadata": {},
   "outputs": [],
   "source": [
    "import numpy as np"
   ]
  },
  {
   "cell_type": "markdown",
   "id": "4b1cfe18",
   "metadata": {},
   "source": [
    "## Variáveis globais"
   ]
  },
  {
   "cell_type": "code",
   "execution_count": 20,
   "id": "fb8fabeb",
   "metadata": {},
   "outputs": [],
   "source": [
    "pagerank_inicial = np.array([1/4, 1/4, 1/4, 1/4])\n",
    "\n",
    "pagerank_simplificado = np.array([\n",
    "    [0, 0, 1, 0],\n",
    "    [1/2, 0, 0, 0],\n",
    "    [1/2, 1, 0, 1],\n",
    "    [0, 0, 0, 0]\n",
    "])"
   ]
  },
  {
   "cell_type": "markdown",
   "id": "4c0196d3",
   "metadata": {},
   "source": [
    "## Funções"
   ]
  },
  {
   "cell_type": "markdown",
   "id": "d5a89256",
   "metadata": {},
   "source": [
    "### Pagerank"
   ]
  },
  {
   "cell_type": "code",
   "execution_count": 21,
   "id": "2de81cab",
   "metadata": {},
   "outputs": [],
   "source": [
    "def pagerank(pagerank_simplificado, beta = 0.8):\n",
    "    \n",
    "    T = pagerank_simplificado.shape[0] \n",
    "    \n",
    "    return ((1-beta)/ T) + (beta * pagerank_simplificado)"
   ]
  },
  {
   "cell_type": "markdown",
   "id": "1c9a11f7",
   "metadata": {},
   "source": [
    "#### Teste função"
   ]
  },
  {
   "cell_type": "code",
   "execution_count": 18,
   "id": "dfa93bce",
   "metadata": {},
   "outputs": [
    {
     "data": {
      "text/plain": [
       "array([[0.05, 0.05, 0.85, 0.05],\n",
       "       [0.45, 0.05, 0.05, 0.05],\n",
       "       [0.45, 0.85, 0.05, 0.85],\n",
       "       [0.05, 0.05, 0.05, 0.05]])"
      ]
     },
     "execution_count": 18,
     "metadata": {},
     "output_type": "execute_result"
    }
   ],
   "source": [
    "pagerank(pagerank_simplificado)"
   ]
  },
  {
   "cell_type": "code",
   "execution_count": 39,
   "id": "c7c6ff06",
   "metadata": {},
   "outputs": [],
   "source": [
    "def pagerank_iteracao(pagerank_simplificado, n_iteracoes = 10):\n",
    "    \n",
    "    for iteracao in range(n_iteracoes):\n",
    "        \n",
    "        pagerank_resultado = pagerank(pagerank_simplificado)\n",
    "        pagerank_simplificado = pagerank_resultado\n",
    "        \n",
    "    return pagerank_resultado.sum(axis=1)        "
   ]
  },
  {
   "cell_type": "markdown",
   "id": "58f4e8f8",
   "metadata": {},
   "source": [
    "#### Teste função"
   ]
  },
  {
   "cell_type": "code",
   "execution_count": 40,
   "id": "4e795b0d",
   "metadata": {},
   "outputs": [
    {
     "data": {
      "text/plain": [
       "array([1.        , 0.94631291, 1.16106127, 0.89262582])"
      ]
     },
     "execution_count": 40,
     "metadata": {},
     "output_type": "execute_result"
    }
   ],
   "source": [
    "pagerank_iteracao(pagerank_simplificado)"
   ]
  },
  {
   "cell_type": "code",
   "execution_count": null,
   "id": "f36cead0",
   "metadata": {},
   "outputs": [],
   "source": []
  }
 ],
 "metadata": {
  "kernelspec": {
   "display_name": "Python 3 (ipykernel)",
   "language": "python",
   "name": "python3"
  },
  "language_info": {
   "codemirror_mode": {
    "name": "ipython",
    "version": 3
   },
   "file_extension": ".py",
   "mimetype": "text/x-python",
   "name": "python",
   "nbconvert_exporter": "python",
   "pygments_lexer": "ipython3",
   "version": "3.9.9"
  }
 },
 "nbformat": 4,
 "nbformat_minor": 5
}
