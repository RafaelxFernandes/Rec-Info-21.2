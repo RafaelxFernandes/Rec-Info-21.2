{
 "cells": [
  {
   "cell_type": "markdown",
   "id": "a8938a4b",
   "metadata": {},
   "source": [
    "### Código feito por Rafael da Silva Fernandes - DRE: 117196229"
   ]
  },
  {
   "cell_type": "markdown",
   "id": "44e1c51e",
   "metadata": {},
   "source": [
    "## Importação de bibliotecas"
   ]
  },
  {
   "cell_type": "code",
   "execution_count": 1,
   "id": "3fb78017",
   "metadata": {},
   "outputs": [],
   "source": [
    "import re\n",
    "import collections\n",
    "import pandas as pd"
   ]
  },
  {
   "cell_type": "markdown",
   "id": "c4056d6a",
   "metadata": {},
   "source": [
    "## Entradas"
   ]
  },
  {
   "cell_type": "markdown",
   "id": "c08e186f",
   "metadata": {},
   "source": [
    "### Entrada 1"
   ]
  },
  {
   "cell_type": "code",
   "execution_count": 2,
   "id": "5a45b7c3",
   "metadata": {},
   "outputs": [],
   "source": [
    "M1 = [['O peã e o caval são pec de xadrez. O caval é o melhor do jog.'],\n",
    "['A jog envolv a torr, o peã e o rei.'],\n",
    "['O peã lac o boi'],\n",
    "['Caval de rodei!'],\n",
    "['Polic o jog no xadrez.']] #conjunto de documentos\n",
    "\n",
    "stopwords1 = ['a', 'o', 'e', 'é', 'de', 'do', 'no','são', ''] #lista de stopword\n",
    "\n",
    "q1 = 'xadrez peã caval torr' #consulta\n",
    "\n",
    "separadores1 = [' ',',','.','!','?'] #separadores para tokenizacao"
   ]
  },
  {
   "cell_type": "markdown",
   "id": "8f1bcb25",
   "metadata": {},
   "source": [
    "### Entrada 2"
   ]
  },
  {
   "cell_type": "code",
   "execution_count": 3,
   "id": "aae49714",
   "metadata": {},
   "outputs": [],
   "source": [
    "M2 = [['Parasita é o grande vencedor do Oscar 2020, com quatro prêmios'],\n",
    "['Green Book, Roma e Bohemian Rhapsody são os principais vencedores do Oscar 2019'],\n",
    "['Oscar 2020: Confira lista completa de vencedores. Parasita e 1917 foram os grandes vencedores da noite'],\n",
    "['Em boa fase, Oscar sonha em jogar a Copa do Mundo da Rússia'],\n",
    "['Conheça os indicados ao Oscar 2020; Cerimônia de premiação acontece em fevereiro'],\n",
    "['Oscar Schmidt receberá Troféu no Prêmio Brasil Olímpico 2019. Jogador de basquete com mais pontos em Jogos Olímpicos.'],\n",
    "['Seleção brasileira vai observar de 35 a 40 jogadores para definir lista da Copa América'],\n",
    "['Oscar 2020: saiba como é a escolha dos jurados e como eles votam'],\n",
    "['Bem, Amigos! discute lista da Seleção, e Galvão dá recado a Tite: Cadê o Luan?'],\n",
    "['IFAL-Maceió convoca aprovados em lista de espera do SISU para chamada oral'],\n",
    "['Arrascaeta e Matías Viña são convocados pelo Uruguai para eliminatórias da Copa. Além deles, há outros destaques na lista.'],\n",
    "['Oscar do Vinho: confira os rótulos de destaque da safra 2018'],\n",
    "['Parasita é o vencedor da Palma de Ouro no Festival de Cannes'],\n",
    "['Estatísticas. Brasileirão Série A: Os artilheiros e garçons da temporada 2020'],\n",
    "['Setembro chegou! Confira o calendário da temporada 2020/2021 do futebol europeu']] #conjunto de documentos\n",
    "\n",
    "stopwords2 = ['a', 'o', 'e', 'é', 'de', 'do', 'da', 'no', 'na', 'são', 'dos', 'com','como',\n",
    "'eles', 'em', 'os', 'ao', 'para', 'pelo', ''] #lista de stopwords\n",
    "\n",
    "q2 = 'oscar 2020' #consulta\n",
    "\n",
    "separadores2 = [' ',',','.','!','?',':',';','/'] #separadores para tokenizacao"
   ]
  },
  {
   "cell_type": "markdown",
   "id": "fb58daa2",
   "metadata": {},
   "source": [
    "## Funções"
   ]
  },
  {
   "cell_type": "markdown",
   "id": "7d4bcb8d",
   "metadata": {},
   "source": [
    "### Tokenização"
   ]
  },
  {
   "cell_type": "code",
   "execution_count": 4,
   "id": "76517548",
   "metadata": {},
   "outputs": [],
   "source": [
    "def tokenizacao(M, separadores):\n",
    "    \n",
    "    tokens = []\n",
    "    \n",
    "    regular_exp = '|'.join(map(re.escape, separadores))\n",
    "    \n",
    "    for i in range(len(M)):\n",
    "        tokens.append(re.split(regular_exp, str(M[i]).replace('[', '').replace(']', '').replace(\"'\",'')))\n",
    "    \n",
    "    return tokens"
   ]
  },
  {
   "cell_type": "markdown",
   "id": "43f2957e",
   "metadata": {},
   "source": [
    "#### Teste para a entrada 1"
   ]
  },
  {
   "cell_type": "code",
   "execution_count": 5,
   "id": "b3c86caf",
   "metadata": {},
   "outputs": [
    {
     "name": "stdout",
     "output_type": "stream",
     "text": [
      "['O', 'peã', 'e', 'o', 'caval', 'são', 'pec', 'de', 'xadrez', '', 'O', 'caval', 'é', 'o', 'melhor', 'do', 'jog', '']\n",
      "['A', 'jog', 'envolv', 'a', 'torr', '', 'o', 'peã', 'e', 'o', 'rei', '']\n",
      "['O', 'peã', 'lac', 'o', 'boi']\n",
      "['Caval', 'de', 'rodei', '']\n",
      "['Polic', 'o', 'jog', 'no', 'xadrez', '']\n"
     ]
    }
   ],
   "source": [
    "tokens1 = tokenizacao(M1, separadores1)\n",
    "\n",
    "for i in range(len(tokens1)):\n",
    "    print(tokens1[i])"
   ]
  },
  {
   "cell_type": "markdown",
   "id": "ec76f6d2",
   "metadata": {},
   "source": [
    "#### Teste para a entrada 2"
   ]
  },
  {
   "cell_type": "code",
   "execution_count": 6,
   "id": "44b10309",
   "metadata": {},
   "outputs": [
    {
     "name": "stdout",
     "output_type": "stream",
     "text": [
      "['Parasita', 'é', 'o', 'grande', 'vencedor', 'do', 'Oscar', '2020', '', 'com', 'quatro', 'prêmios']\n",
      "['Green', 'Book', '', 'Roma', 'e', 'Bohemian', 'Rhapsody', 'são', 'os', 'principais', 'vencedores', 'do', 'Oscar', '2019']\n",
      "['Oscar', '2020', '', 'Confira', 'lista', 'completa', 'de', 'vencedores', '', 'Parasita', 'e', '1917', 'foram', 'os', 'grandes', 'vencedores', 'da', 'noite']\n",
      "['Em', 'boa', 'fase', '', 'Oscar', 'sonha', 'em', 'jogar', 'a', 'Copa', 'do', 'Mundo', 'da', 'Rússia']\n",
      "['Conheça', 'os', 'indicados', 'ao', 'Oscar', '2020', '', 'Cerimônia', 'de', 'premiação', 'acontece', 'em', 'fevereiro']\n",
      "['Oscar', 'Schmidt', 'receberá', 'Troféu', 'no', 'Prêmio', 'Brasil', 'Olímpico', '2019', '', 'Jogador', 'de', 'basquete', 'com', 'mais', 'pontos', 'em', 'Jogos', 'Olímpicos', '']\n",
      "['Seleção', 'brasileira', 'vai', 'observar', 'de', '35', 'a', '40', 'jogadores', 'para', 'definir', 'lista', 'da', 'Copa', 'América']\n",
      "['Oscar', '2020', '', 'saiba', 'como', 'é', 'a', 'escolha', 'dos', 'jurados', 'e', 'como', 'eles', 'votam']\n",
      "['Bem', '', 'Amigos', '', 'discute', 'lista', 'da', 'Seleção', '', 'e', 'Galvão', 'dá', 'recado', 'a', 'Tite', '', 'Cadê', 'o', 'Luan', '']\n",
      "['IFAL-Maceió', 'convoca', 'aprovados', 'em', 'lista', 'de', 'espera', 'do', 'SISU', 'para', 'chamada', 'oral']\n",
      "['Arrascaeta', 'e', 'Matías', 'Viña', 'são', 'convocados', 'pelo', 'Uruguai', 'para', 'eliminatórias', 'da', 'Copa', '', 'Além', 'deles', '', 'há', 'outros', 'destaques', 'na', 'lista', '']\n",
      "['Oscar', 'do', 'Vinho', '', 'confira', 'os', 'rótulos', 'de', 'destaque', 'da', 'safra', '2018']\n",
      "['Parasita', 'é', 'o', 'vencedor', 'da', 'Palma', 'de', 'Ouro', 'no', 'Festival', 'de', 'Cannes']\n",
      "['Estatísticas', '', 'Brasileirão', 'Série', 'A', '', 'Os', 'artilheiros', 'e', 'garçons', 'da', 'temporada', '2020']\n",
      "['Setembro', 'chegou', '', 'Confira', 'o', 'calendário', 'da', 'temporada', '2020', '2021', 'do', 'futebol', 'europeu']\n"
     ]
    }
   ],
   "source": [
    "tokens2 = tokenizacao(M2, separadores2)\n",
    "\n",
    "for i in range(len(tokens2)):\n",
    "    print(tokens2[i])"
   ]
  },
  {
   "cell_type": "markdown",
   "id": "29a9c822",
   "metadata": {},
   "source": [
    "### Normalização"
   ]
  },
  {
   "cell_type": "code",
   "execution_count": 7,
   "id": "f29b7d93",
   "metadata": {},
   "outputs": [],
   "source": [
    "def normalizacao(tokens):\n",
    "    \n",
    "    tokens_normalizados = []\n",
    "    \n",
    "    for i in range(len(tokens)):\n",
    "        tokens_normalizados.append(list(map(lambda x: x.lower(), tokens[i])))  \n",
    "\n",
    "    return tokens_normalizados"
   ]
  },
  {
   "cell_type": "markdown",
   "id": "7a06e1fe",
   "metadata": {},
   "source": [
    "#### Teste para a entrada 1"
   ]
  },
  {
   "cell_type": "code",
   "execution_count": 8,
   "id": "fb96acac",
   "metadata": {},
   "outputs": [
    {
     "name": "stdout",
     "output_type": "stream",
     "text": [
      "['o', 'peã', 'e', 'o', 'caval', 'são', 'pec', 'de', 'xadrez', '', 'o', 'caval', 'é', 'o', 'melhor', 'do', 'jog', '']\n",
      "['a', 'jog', 'envolv', 'a', 'torr', '', 'o', 'peã', 'e', 'o', 'rei', '']\n",
      "['o', 'peã', 'lac', 'o', 'boi']\n",
      "['caval', 'de', 'rodei', '']\n",
      "['polic', 'o', 'jog', 'no', 'xadrez', '']\n"
     ]
    }
   ],
   "source": [
    "tokens_normalizados1 = normalizacao(tokens1)\n",
    "\n",
    "for i in range(len(tokens1)):\n",
    "    print(tokens_normalizados1[i])"
   ]
  },
  {
   "cell_type": "markdown",
   "id": "efab51d4",
   "metadata": {},
   "source": [
    "#### Teste para a entrada 2"
   ]
  },
  {
   "cell_type": "code",
   "execution_count": 9,
   "id": "6d57ca88",
   "metadata": {},
   "outputs": [
    {
     "name": "stdout",
     "output_type": "stream",
     "text": [
      "['parasita', 'é', 'o', 'grande', 'vencedor', 'do', 'oscar', '2020', '', 'com', 'quatro', 'prêmios']\n",
      "['green', 'book', '', 'roma', 'e', 'bohemian', 'rhapsody', 'são', 'os', 'principais', 'vencedores', 'do', 'oscar', '2019']\n",
      "['oscar', '2020', '', 'confira', 'lista', 'completa', 'de', 'vencedores', '', 'parasita', 'e', '1917', 'foram', 'os', 'grandes', 'vencedores', 'da', 'noite']\n",
      "['em', 'boa', 'fase', '', 'oscar', 'sonha', 'em', 'jogar', 'a', 'copa', 'do', 'mundo', 'da', 'rússia']\n",
      "['conheça', 'os', 'indicados', 'ao', 'oscar', '2020', '', 'cerimônia', 'de', 'premiação', 'acontece', 'em', 'fevereiro']\n",
      "['oscar', 'schmidt', 'receberá', 'troféu', 'no', 'prêmio', 'brasil', 'olímpico', '2019', '', 'jogador', 'de', 'basquete', 'com', 'mais', 'pontos', 'em', 'jogos', 'olímpicos', '']\n",
      "['seleção', 'brasileira', 'vai', 'observar', 'de', '35', 'a', '40', 'jogadores', 'para', 'definir', 'lista', 'da', 'copa', 'américa']\n",
      "['oscar', '2020', '', 'saiba', 'como', 'é', 'a', 'escolha', 'dos', 'jurados', 'e', 'como', 'eles', 'votam']\n",
      "['bem', '', 'amigos', '', 'discute', 'lista', 'da', 'seleção', '', 'e', 'galvão', 'dá', 'recado', 'a', 'tite', '', 'cadê', 'o', 'luan', '']\n",
      "['ifal-maceió', 'convoca', 'aprovados', 'em', 'lista', 'de', 'espera', 'do', 'sisu', 'para', 'chamada', 'oral']\n",
      "['arrascaeta', 'e', 'matías', 'viña', 'são', 'convocados', 'pelo', 'uruguai', 'para', 'eliminatórias', 'da', 'copa', '', 'além', 'deles', '', 'há', 'outros', 'destaques', 'na', 'lista', '']\n",
      "['oscar', 'do', 'vinho', '', 'confira', 'os', 'rótulos', 'de', 'destaque', 'da', 'safra', '2018']\n",
      "['parasita', 'é', 'o', 'vencedor', 'da', 'palma', 'de', 'ouro', 'no', 'festival', 'de', 'cannes']\n",
      "['estatísticas', '', 'brasileirão', 'série', 'a', '', 'os', 'artilheiros', 'e', 'garçons', 'da', 'temporada', '2020']\n",
      "['setembro', 'chegou', '', 'confira', 'o', 'calendário', 'da', 'temporada', '2020', '2021', 'do', 'futebol', 'europeu']\n"
     ]
    }
   ],
   "source": [
    "tokens_normalizados2 = normalizacao(tokens2)\n",
    "\n",
    "for i in range(len(tokens2)):\n",
    "    print(tokens_normalizados2[i])"
   ]
  },
  {
   "cell_type": "markdown",
   "id": "503962a0",
   "metadata": {},
   "source": [
    "### Remoção de stopwords"
   ]
  },
  {
   "cell_type": "code",
   "execution_count": 10,
   "id": "961d3863",
   "metadata": {},
   "outputs": [],
   "source": [
    "def remocao_stopword(tokens, stopwords):\n",
    "\n",
    "    tokens_sem_stopwords = []\n",
    "    \n",
    "    for i in range(len(tokens)):\n",
    "        tokens_sem_stopwords.append(list(set(tokens[i])-set(stopwords)))\n",
    "        \n",
    "    return tokens_sem_stopwords"
   ]
  },
  {
   "cell_type": "markdown",
   "id": "9e235802",
   "metadata": {},
   "source": [
    "#### Teste para a entrada 1"
   ]
  },
  {
   "cell_type": "code",
   "execution_count": 11,
   "id": "91b85fea",
   "metadata": {},
   "outputs": [
    {
     "data": {
      "text/plain": [
       "[['pec', 'melhor', 'peã', 'jog', 'caval', 'xadrez'],\n",
       " ['peã', 'jog', 'torr', 'rei', 'envolv'],\n",
       " ['boi', 'lac', 'peã'],\n",
       " ['rodei', 'caval'],\n",
       " ['jog', 'polic', 'xadrez']]"
      ]
     },
     "execution_count": 11,
     "metadata": {},
     "output_type": "execute_result"
    }
   ],
   "source": [
    "tokens_sem_stopwords1 = remocao_stopword(tokens_normalizados1, stopwords1)\n",
    "tokens_sem_stopwords1"
   ]
  },
  {
   "cell_type": "markdown",
   "id": "78b17063",
   "metadata": {},
   "source": [
    "#### Teste para a entrada 2"
   ]
  },
  {
   "cell_type": "code",
   "execution_count": 12,
   "id": "d249e2b8",
   "metadata": {
    "scrolled": false
   },
   "outputs": [
    {
     "data": {
      "text/plain": [
       "[['parasita', '2020', 'vencedor', 'grande', 'quatro', 'prêmios', 'oscar'],\n",
       " ['green',\n",
       "  'principais',\n",
       "  'roma',\n",
       "  'oscar',\n",
       "  'book',\n",
       "  'bohemian',\n",
       "  'vencedores',\n",
       "  '2019',\n",
       "  'rhapsody'],\n",
       " ['2020',\n",
       "  'parasita',\n",
       "  'noite',\n",
       "  'lista',\n",
       "  'oscar',\n",
       "  'grandes',\n",
       "  'completa',\n",
       "  'vencedores',\n",
       "  'confira',\n",
       "  'foram',\n",
       "  '1917'],\n",
       " ['copa', 'mundo', 'rússia', 'sonha', 'oscar', 'fase', 'boa', 'jogar'],\n",
       " ['2020',\n",
       "  'cerimônia',\n",
       "  'conheça',\n",
       "  'oscar',\n",
       "  'indicados',\n",
       "  'acontece',\n",
       "  'premiação',\n",
       "  'fevereiro'],\n",
       " ['mais',\n",
       "  'pontos',\n",
       "  'schmidt',\n",
       "  'receberá',\n",
       "  'oscar',\n",
       "  'basquete',\n",
       "  'olímpicos',\n",
       "  'brasil',\n",
       "  'prêmio',\n",
       "  'troféu',\n",
       "  'jogador',\n",
       "  'olímpico',\n",
       "  '2019',\n",
       "  'jogos'],\n",
       " ['35',\n",
       "  'copa',\n",
       "  'lista',\n",
       "  'seleção',\n",
       "  'brasileira',\n",
       "  'definir',\n",
       "  'observar',\n",
       "  'américa',\n",
       "  'vai',\n",
       "  'jogadores',\n",
       "  '40'],\n",
       " ['2020', 'jurados', 'oscar', 'saiba', 'escolha', 'votam'],\n",
       " ['lista',\n",
       "  'seleção',\n",
       "  'bem',\n",
       "  'discute',\n",
       "  'amigos',\n",
       "  'cadê',\n",
       "  'recado',\n",
       "  'galvão',\n",
       "  'tite',\n",
       "  'dá',\n",
       "  'luan'],\n",
       " ['lista',\n",
       "  'convoca',\n",
       "  'aprovados',\n",
       "  'chamada',\n",
       "  'sisu',\n",
       "  'espera',\n",
       "  'oral',\n",
       "  'ifal-maceió'],\n",
       " ['copa',\n",
       "  'uruguai',\n",
       "  'lista',\n",
       "  'deles',\n",
       "  'além',\n",
       "  'eliminatórias',\n",
       "  'outros',\n",
       "  'arrascaeta',\n",
       "  'há',\n",
       "  'viña',\n",
       "  'convocados',\n",
       "  'matías',\n",
       "  'destaques'],\n",
       " ['safra', 'vinho', 'destaque', 'oscar', '2018', 'rótulos', 'confira'],\n",
       " ['parasita', 'vencedor', 'palma', 'festival', 'ouro', 'cannes'],\n",
       " ['2020',\n",
       "  'série',\n",
       "  'temporada',\n",
       "  'artilheiros',\n",
       "  'estatísticas',\n",
       "  'brasileirão',\n",
       "  'garçons'],\n",
       " ['2020',\n",
       "  'temporada',\n",
       "  'futebol',\n",
       "  'setembro',\n",
       "  '2021',\n",
       "  'calendário',\n",
       "  'europeu',\n",
       "  'confira',\n",
       "  'chegou']]"
      ]
     },
     "execution_count": 12,
     "metadata": {},
     "output_type": "execute_result"
    }
   ],
   "source": [
    "tokens_sem_stopwords2 = remocao_stopword(tokens_normalizados2, stopwords2)\n",
    "tokens_sem_stopwords2"
   ]
  },
  {
   "cell_type": "markdown",
   "id": "b6121f49",
   "metadata": {},
   "source": [
    "### Matriz de incidência"
   ]
  },
  {
   "cell_type": "code",
   "execution_count": 13,
   "id": "48cb5ba2",
   "metadata": {},
   "outputs": [],
   "source": [
    "def matriz_incidencia(tokens):\n",
    "    \n",
    "    dicionario = {}\n",
    "    lista_dicionarios = []\n",
    "    \n",
    "    for x in range(len(tokens)):\n",
    "        dicionario = {i:tokens[x].count(i) for i in tokens[x]}\n",
    "        lista_dicionarios.append(dicionario)\n",
    "        \n",
    "    df = pd.DataFrame(lista_dicionarios).fillna(0).T\n",
    "    \n",
    "    return df"
   ]
  },
  {
   "cell_type": "markdown",
   "id": "485fd4b7",
   "metadata": {},
   "source": [
    "#### Teste para a entrada 1"
   ]
  },
  {
   "cell_type": "code",
   "execution_count": 14,
   "id": "aab139e1",
   "metadata": {},
   "outputs": [
    {
     "data": {
      "text/html": [
       "<div>\n",
       "<style scoped>\n",
       "    .dataframe tbody tr th:only-of-type {\n",
       "        vertical-align: middle;\n",
       "    }\n",
       "\n",
       "    .dataframe tbody tr th {\n",
       "        vertical-align: top;\n",
       "    }\n",
       "\n",
       "    .dataframe thead th {\n",
       "        text-align: right;\n",
       "    }\n",
       "</style>\n",
       "<table border=\"1\" class=\"dataframe\">\n",
       "  <thead>\n",
       "    <tr style=\"text-align: right;\">\n",
       "      <th></th>\n",
       "      <th>0</th>\n",
       "      <th>1</th>\n",
       "      <th>2</th>\n",
       "      <th>3</th>\n",
       "      <th>4</th>\n",
       "    </tr>\n",
       "  </thead>\n",
       "  <tbody>\n",
       "    <tr>\n",
       "      <th>pec</th>\n",
       "      <td>1.0</td>\n",
       "      <td>0.0</td>\n",
       "      <td>0.0</td>\n",
       "      <td>0.0</td>\n",
       "      <td>0.0</td>\n",
       "    </tr>\n",
       "    <tr>\n",
       "      <th>melhor</th>\n",
       "      <td>1.0</td>\n",
       "      <td>0.0</td>\n",
       "      <td>0.0</td>\n",
       "      <td>0.0</td>\n",
       "      <td>0.0</td>\n",
       "    </tr>\n",
       "    <tr>\n",
       "      <th>peã</th>\n",
       "      <td>1.0</td>\n",
       "      <td>1.0</td>\n",
       "      <td>1.0</td>\n",
       "      <td>0.0</td>\n",
       "      <td>0.0</td>\n",
       "    </tr>\n",
       "    <tr>\n",
       "      <th>jog</th>\n",
       "      <td>1.0</td>\n",
       "      <td>1.0</td>\n",
       "      <td>0.0</td>\n",
       "      <td>0.0</td>\n",
       "      <td>1.0</td>\n",
       "    </tr>\n",
       "    <tr>\n",
       "      <th>caval</th>\n",
       "      <td>1.0</td>\n",
       "      <td>0.0</td>\n",
       "      <td>0.0</td>\n",
       "      <td>1.0</td>\n",
       "      <td>0.0</td>\n",
       "    </tr>\n",
       "    <tr>\n",
       "      <th>xadrez</th>\n",
       "      <td>1.0</td>\n",
       "      <td>0.0</td>\n",
       "      <td>0.0</td>\n",
       "      <td>0.0</td>\n",
       "      <td>1.0</td>\n",
       "    </tr>\n",
       "    <tr>\n",
       "      <th>torr</th>\n",
       "      <td>0.0</td>\n",
       "      <td>1.0</td>\n",
       "      <td>0.0</td>\n",
       "      <td>0.0</td>\n",
       "      <td>0.0</td>\n",
       "    </tr>\n",
       "    <tr>\n",
       "      <th>rei</th>\n",
       "      <td>0.0</td>\n",
       "      <td>1.0</td>\n",
       "      <td>0.0</td>\n",
       "      <td>0.0</td>\n",
       "      <td>0.0</td>\n",
       "    </tr>\n",
       "    <tr>\n",
       "      <th>envolv</th>\n",
       "      <td>0.0</td>\n",
       "      <td>1.0</td>\n",
       "      <td>0.0</td>\n",
       "      <td>0.0</td>\n",
       "      <td>0.0</td>\n",
       "    </tr>\n",
       "    <tr>\n",
       "      <th>boi</th>\n",
       "      <td>0.0</td>\n",
       "      <td>0.0</td>\n",
       "      <td>1.0</td>\n",
       "      <td>0.0</td>\n",
       "      <td>0.0</td>\n",
       "    </tr>\n",
       "    <tr>\n",
       "      <th>lac</th>\n",
       "      <td>0.0</td>\n",
       "      <td>0.0</td>\n",
       "      <td>1.0</td>\n",
       "      <td>0.0</td>\n",
       "      <td>0.0</td>\n",
       "    </tr>\n",
       "    <tr>\n",
       "      <th>rodei</th>\n",
       "      <td>0.0</td>\n",
       "      <td>0.0</td>\n",
       "      <td>0.0</td>\n",
       "      <td>1.0</td>\n",
       "      <td>0.0</td>\n",
       "    </tr>\n",
       "    <tr>\n",
       "      <th>polic</th>\n",
       "      <td>0.0</td>\n",
       "      <td>0.0</td>\n",
       "      <td>0.0</td>\n",
       "      <td>0.0</td>\n",
       "      <td>1.0</td>\n",
       "    </tr>\n",
       "  </tbody>\n",
       "</table>\n",
       "</div>"
      ],
      "text/plain": [
       "          0    1    2    3    4\n",
       "pec     1.0  0.0  0.0  0.0  0.0\n",
       "melhor  1.0  0.0  0.0  0.0  0.0\n",
       "peã     1.0  1.0  1.0  0.0  0.0\n",
       "jog     1.0  1.0  0.0  0.0  1.0\n",
       "caval   1.0  0.0  0.0  1.0  0.0\n",
       "xadrez  1.0  0.0  0.0  0.0  1.0\n",
       "torr    0.0  1.0  0.0  0.0  0.0\n",
       "rei     0.0  1.0  0.0  0.0  0.0\n",
       "envolv  0.0  1.0  0.0  0.0  0.0\n",
       "boi     0.0  0.0  1.0  0.0  0.0\n",
       "lac     0.0  0.0  1.0  0.0  0.0\n",
       "rodei   0.0  0.0  0.0  1.0  0.0\n",
       "polic   0.0  0.0  0.0  0.0  1.0"
      ]
     },
     "execution_count": 14,
     "metadata": {},
     "output_type": "execute_result"
    }
   ],
   "source": [
    "matriz1 = matriz_incidencia(tokens_sem_stopwords1)\n",
    "matriz1"
   ]
  },
  {
   "cell_type": "markdown",
   "id": "6151c479",
   "metadata": {},
   "source": [
    "#### Teste para a entrada 2"
   ]
  },
  {
   "cell_type": "code",
   "execution_count": 15,
   "id": "24e7c7fa",
   "metadata": {},
   "outputs": [
    {
     "data": {
      "text/html": [
       "<div>\n",
       "<style scoped>\n",
       "    .dataframe tbody tr th:only-of-type {\n",
       "        vertical-align: middle;\n",
       "    }\n",
       "\n",
       "    .dataframe tbody tr th {\n",
       "        vertical-align: top;\n",
       "    }\n",
       "\n",
       "    .dataframe thead th {\n",
       "        text-align: right;\n",
       "    }\n",
       "</style>\n",
       "<table border=\"1\" class=\"dataframe\">\n",
       "  <thead>\n",
       "    <tr style=\"text-align: right;\">\n",
       "      <th></th>\n",
       "      <th>0</th>\n",
       "      <th>1</th>\n",
       "      <th>2</th>\n",
       "      <th>3</th>\n",
       "      <th>4</th>\n",
       "      <th>5</th>\n",
       "      <th>6</th>\n",
       "      <th>7</th>\n",
       "      <th>8</th>\n",
       "      <th>9</th>\n",
       "      <th>10</th>\n",
       "      <th>11</th>\n",
       "      <th>12</th>\n",
       "      <th>13</th>\n",
       "      <th>14</th>\n",
       "    </tr>\n",
       "  </thead>\n",
       "  <tbody>\n",
       "    <tr>\n",
       "      <th>parasita</th>\n",
       "      <td>1.0</td>\n",
       "      <td>0.0</td>\n",
       "      <td>1.0</td>\n",
       "      <td>0.0</td>\n",
       "      <td>0.0</td>\n",
       "      <td>0.0</td>\n",
       "      <td>0.0</td>\n",
       "      <td>0.0</td>\n",
       "      <td>0.0</td>\n",
       "      <td>0.0</td>\n",
       "      <td>0.0</td>\n",
       "      <td>0.0</td>\n",
       "      <td>1.0</td>\n",
       "      <td>0.0</td>\n",
       "      <td>0.0</td>\n",
       "    </tr>\n",
       "    <tr>\n",
       "      <th>2020</th>\n",
       "      <td>1.0</td>\n",
       "      <td>0.0</td>\n",
       "      <td>1.0</td>\n",
       "      <td>0.0</td>\n",
       "      <td>1.0</td>\n",
       "      <td>0.0</td>\n",
       "      <td>0.0</td>\n",
       "      <td>1.0</td>\n",
       "      <td>0.0</td>\n",
       "      <td>0.0</td>\n",
       "      <td>0.0</td>\n",
       "      <td>0.0</td>\n",
       "      <td>0.0</td>\n",
       "      <td>1.0</td>\n",
       "      <td>1.0</td>\n",
       "    </tr>\n",
       "    <tr>\n",
       "      <th>vencedor</th>\n",
       "      <td>1.0</td>\n",
       "      <td>0.0</td>\n",
       "      <td>0.0</td>\n",
       "      <td>0.0</td>\n",
       "      <td>0.0</td>\n",
       "      <td>0.0</td>\n",
       "      <td>0.0</td>\n",
       "      <td>0.0</td>\n",
       "      <td>0.0</td>\n",
       "      <td>0.0</td>\n",
       "      <td>0.0</td>\n",
       "      <td>0.0</td>\n",
       "      <td>1.0</td>\n",
       "      <td>0.0</td>\n",
       "      <td>0.0</td>\n",
       "    </tr>\n",
       "    <tr>\n",
       "      <th>grande</th>\n",
       "      <td>1.0</td>\n",
       "      <td>0.0</td>\n",
       "      <td>0.0</td>\n",
       "      <td>0.0</td>\n",
       "      <td>0.0</td>\n",
       "      <td>0.0</td>\n",
       "      <td>0.0</td>\n",
       "      <td>0.0</td>\n",
       "      <td>0.0</td>\n",
       "      <td>0.0</td>\n",
       "      <td>0.0</td>\n",
       "      <td>0.0</td>\n",
       "      <td>0.0</td>\n",
       "      <td>0.0</td>\n",
       "      <td>0.0</td>\n",
       "    </tr>\n",
       "    <tr>\n",
       "      <th>quatro</th>\n",
       "      <td>1.0</td>\n",
       "      <td>0.0</td>\n",
       "      <td>0.0</td>\n",
       "      <td>0.0</td>\n",
       "      <td>0.0</td>\n",
       "      <td>0.0</td>\n",
       "      <td>0.0</td>\n",
       "      <td>0.0</td>\n",
       "      <td>0.0</td>\n",
       "      <td>0.0</td>\n",
       "      <td>0.0</td>\n",
       "      <td>0.0</td>\n",
       "      <td>0.0</td>\n",
       "      <td>0.0</td>\n",
       "      <td>0.0</td>\n",
       "    </tr>\n",
       "    <tr>\n",
       "      <th>...</th>\n",
       "      <td>...</td>\n",
       "      <td>...</td>\n",
       "      <td>...</td>\n",
       "      <td>...</td>\n",
       "      <td>...</td>\n",
       "      <td>...</td>\n",
       "      <td>...</td>\n",
       "      <td>...</td>\n",
       "      <td>...</td>\n",
       "      <td>...</td>\n",
       "      <td>...</td>\n",
       "      <td>...</td>\n",
       "      <td>...</td>\n",
       "      <td>...</td>\n",
       "      <td>...</td>\n",
       "    </tr>\n",
       "    <tr>\n",
       "      <th>setembro</th>\n",
       "      <td>0.0</td>\n",
       "      <td>0.0</td>\n",
       "      <td>0.0</td>\n",
       "      <td>0.0</td>\n",
       "      <td>0.0</td>\n",
       "      <td>0.0</td>\n",
       "      <td>0.0</td>\n",
       "      <td>0.0</td>\n",
       "      <td>0.0</td>\n",
       "      <td>0.0</td>\n",
       "      <td>0.0</td>\n",
       "      <td>0.0</td>\n",
       "      <td>0.0</td>\n",
       "      <td>0.0</td>\n",
       "      <td>1.0</td>\n",
       "    </tr>\n",
       "    <tr>\n",
       "      <th>2021</th>\n",
       "      <td>0.0</td>\n",
       "      <td>0.0</td>\n",
       "      <td>0.0</td>\n",
       "      <td>0.0</td>\n",
       "      <td>0.0</td>\n",
       "      <td>0.0</td>\n",
       "      <td>0.0</td>\n",
       "      <td>0.0</td>\n",
       "      <td>0.0</td>\n",
       "      <td>0.0</td>\n",
       "      <td>0.0</td>\n",
       "      <td>0.0</td>\n",
       "      <td>0.0</td>\n",
       "      <td>0.0</td>\n",
       "      <td>1.0</td>\n",
       "    </tr>\n",
       "    <tr>\n",
       "      <th>calendário</th>\n",
       "      <td>0.0</td>\n",
       "      <td>0.0</td>\n",
       "      <td>0.0</td>\n",
       "      <td>0.0</td>\n",
       "      <td>0.0</td>\n",
       "      <td>0.0</td>\n",
       "      <td>0.0</td>\n",
       "      <td>0.0</td>\n",
       "      <td>0.0</td>\n",
       "      <td>0.0</td>\n",
       "      <td>0.0</td>\n",
       "      <td>0.0</td>\n",
       "      <td>0.0</td>\n",
       "      <td>0.0</td>\n",
       "      <td>1.0</td>\n",
       "    </tr>\n",
       "    <tr>\n",
       "      <th>europeu</th>\n",
       "      <td>0.0</td>\n",
       "      <td>0.0</td>\n",
       "      <td>0.0</td>\n",
       "      <td>0.0</td>\n",
       "      <td>0.0</td>\n",
       "      <td>0.0</td>\n",
       "      <td>0.0</td>\n",
       "      <td>0.0</td>\n",
       "      <td>0.0</td>\n",
       "      <td>0.0</td>\n",
       "      <td>0.0</td>\n",
       "      <td>0.0</td>\n",
       "      <td>0.0</td>\n",
       "      <td>0.0</td>\n",
       "      <td>1.0</td>\n",
       "    </tr>\n",
       "    <tr>\n",
       "      <th>chegou</th>\n",
       "      <td>0.0</td>\n",
       "      <td>0.0</td>\n",
       "      <td>0.0</td>\n",
       "      <td>0.0</td>\n",
       "      <td>0.0</td>\n",
       "      <td>0.0</td>\n",
       "      <td>0.0</td>\n",
       "      <td>0.0</td>\n",
       "      <td>0.0</td>\n",
       "      <td>0.0</td>\n",
       "      <td>0.0</td>\n",
       "      <td>0.0</td>\n",
       "      <td>0.0</td>\n",
       "      <td>0.0</td>\n",
       "      <td>1.0</td>\n",
       "    </tr>\n",
       "  </tbody>\n",
       "</table>\n",
       "<p>108 rows × 15 columns</p>\n",
       "</div>"
      ],
      "text/plain": [
       "             0    1    2    3    4    5    6    7    8    9    10   11   12  \\\n",
       "parasita    1.0  0.0  1.0  0.0  0.0  0.0  0.0  0.0  0.0  0.0  0.0  0.0  1.0   \n",
       "2020        1.0  0.0  1.0  0.0  1.0  0.0  0.0  1.0  0.0  0.0  0.0  0.0  0.0   \n",
       "vencedor    1.0  0.0  0.0  0.0  0.0  0.0  0.0  0.0  0.0  0.0  0.0  0.0  1.0   \n",
       "grande      1.0  0.0  0.0  0.0  0.0  0.0  0.0  0.0  0.0  0.0  0.0  0.0  0.0   \n",
       "quatro      1.0  0.0  0.0  0.0  0.0  0.0  0.0  0.0  0.0  0.0  0.0  0.0  0.0   \n",
       "...         ...  ...  ...  ...  ...  ...  ...  ...  ...  ...  ...  ...  ...   \n",
       "setembro    0.0  0.0  0.0  0.0  0.0  0.0  0.0  0.0  0.0  0.0  0.0  0.0  0.0   \n",
       "2021        0.0  0.0  0.0  0.0  0.0  0.0  0.0  0.0  0.0  0.0  0.0  0.0  0.0   \n",
       "calendário  0.0  0.0  0.0  0.0  0.0  0.0  0.0  0.0  0.0  0.0  0.0  0.0  0.0   \n",
       "europeu     0.0  0.0  0.0  0.0  0.0  0.0  0.0  0.0  0.0  0.0  0.0  0.0  0.0   \n",
       "chegou      0.0  0.0  0.0  0.0  0.0  0.0  0.0  0.0  0.0  0.0  0.0  0.0  0.0   \n",
       "\n",
       "             13   14  \n",
       "parasita    0.0  0.0  \n",
       "2020        1.0  1.0  \n",
       "vencedor    0.0  0.0  \n",
       "grande      0.0  0.0  \n",
       "quatro      0.0  0.0  \n",
       "...         ...  ...  \n",
       "setembro    0.0  1.0  \n",
       "2021        0.0  1.0  \n",
       "calendário  0.0  1.0  \n",
       "europeu     0.0  1.0  \n",
       "chegou      0.0  1.0  \n",
       "\n",
       "[108 rows x 15 columns]"
      ]
     },
     "execution_count": 15,
     "metadata": {},
     "output_type": "execute_result"
    }
   ],
   "source": [
    "matriz2 = matriz_incidencia(tokens_sem_stopwords2)\n",
    "matriz2"
   ]
  }
 ],
 "metadata": {
  "kernelspec": {
   "display_name": "Python 3",
   "language": "python",
   "name": "python3"
  },
  "language_info": {
   "codemirror_mode": {
    "name": "ipython",
    "version": 3
   },
   "file_extension": ".py",
   "mimetype": "text/x-python",
   "name": "python",
   "nbconvert_exporter": "python",
   "pygments_lexer": "ipython3",
   "version": "3.7.0"
  }
 },
 "nbformat": 4,
 "nbformat_minor": 5
}
