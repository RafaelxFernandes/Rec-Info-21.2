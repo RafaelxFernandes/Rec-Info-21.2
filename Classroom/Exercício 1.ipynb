{
 "cells": [
  {
   "cell_type": "markdown",
   "id": "a8938a4b",
   "metadata": {},
   "source": [
    "### Código feito por Rafael da Silva Fernandes - DRE: 117196229"
   ]
  },
  {
   "cell_type": "markdown",
   "id": "44e1c51e",
   "metadata": {},
   "source": [
    "## Importação de bibliotecas"
   ]
  },
  {
   "cell_type": "code",
   "execution_count": 1,
   "id": "3fb78017",
   "metadata": {},
   "outputs": [],
   "source": [
    "import pandas as pd\n",
    "import re\n",
    "import collections"
   ]
  },
  {
   "cell_type": "markdown",
   "id": "c4056d6a",
   "metadata": {},
   "source": [
    "## Entradas"
   ]
  },
  {
   "cell_type": "markdown",
   "id": "c08e186f",
   "metadata": {},
   "source": [
    "### Entrada 1"
   ]
  },
  {
   "cell_type": "code",
   "execution_count": 2,
   "id": "5a45b7c3",
   "metadata": {},
   "outputs": [],
   "source": [
    "M1 = [['O peã e o caval são pec de xadrez. O caval é o melhor do jog.'],\n",
    "['A jog envolv a torr, o peã e o rei.'],\n",
    "['O peã lac o boi'],\n",
    "['Caval de rodei!'],\n",
    "['Polic o jog no xadrez.']] #conjunto de documentos\n",
    "\n",
    "stopwords1 = ['a', 'o', 'e', 'é', 'de', 'do', 'no','são'] #lista de stopword\n",
    "\n",
    "q1 = 'xadrez peã caval torr' #consulta\n",
    "\n",
    "separadores1 = [' ',',','.','!','?'] #separadores para tokenizacao"
   ]
  },
  {
   "cell_type": "markdown",
   "id": "8f1bcb25",
   "metadata": {},
   "source": [
    "### Entrada 2"
   ]
  },
  {
   "cell_type": "code",
   "execution_count": 3,
   "id": "aae49714",
   "metadata": {},
   "outputs": [],
   "source": [
    "M2 = [['Parasita é o grande vencedor do Oscar 2020, com quatro prêmios'],\n",
    "['Green Book, Roma e Bohemian Rhapsody são os principais vencedores do Oscar 2019'],\n",
    "['Oscar 2020: Confira lista completa de vencedores. Parasita e 1917 foram os grandes vencedores da noite'],\n",
    "['Em boa fase, Oscar sonha em jogar a Copa do Mundo da Rússia'],\n",
    "['Conheça os indicados ao Oscar 2020; Cerimônia de premiação acontece em fevereiro'],\n",
    "['Oscar Schmidt receberá Troféu no Prêmio Brasil Olímpico 2019. Jogador de basquete com mais pontos em Jogos Olímpicos.'],\n",
    "['Seleção brasileira vai observar de 35 a 40 jogadores para definir lista da Copa América'],\n",
    "['Oscar 2020: saiba como é a escolha dos jurados e como eles votam'],\n",
    "['Bem, Amigos! discute lista da Seleção, e Galvão dá recado a Tite: Cadê o Luan?'],\n",
    "['IFAL-Maceió convoca aprovados em lista de espera do SISU para chamada oral'],\n",
    "['Arrascaeta e Matías Viña são convocados pelo Uruguai para eliminatórias da Copa. Além deles, há outros destaques na lista.'],\n",
    "['Oscar do Vinho: confira os rótulos de destaque da safra 2018'],\n",
    "['Parasita é o vencedor da Palma de Ouro no Festival de Cannes'],\n",
    "['Estatísticas. Brasileirão Série A: Os artilheiros e garçons da temporada 2020'],\n",
    "['Setembro chegou! Confira o calendário da temporada 2020/2021 do futebol europeu']] #conjunto de documentos\n",
    "\n",
    "stopwords2 = ['a', 'o', 'e', 'é', 'de', 'do', 'da', 'no', 'na', 'são', 'dos', 'com','como',\n",
    "'eles', 'em', 'os', 'ao', 'para', 'pelo'] #lista de stopwords\n",
    "\n",
    "q2 = 'oscar 2020' #consulta\n",
    "\n",
    "separadores2 = [' ',',','.','!','?',':',';','/'] #separadores para tokenizacao"
   ]
  },
  {
   "cell_type": "markdown",
   "id": "fb58daa2",
   "metadata": {},
   "source": [
    "## Funções"
   ]
  },
  {
   "cell_type": "markdown",
   "id": "7d4bcb8d",
   "metadata": {},
   "source": [
    "### Tokenização"
   ]
  },
  {
   "cell_type": "code",
   "execution_count": 4,
   "id": "76517548",
   "metadata": {},
   "outputs": [],
   "source": [
    "def tokenizacao(M, separadores):\n",
    "    \n",
    "    tokens = []\n",
    "    \n",
    "    regular_exp = '|'.join(map(re.escape, separadores))\n",
    "    \n",
    "    for i in range(len(M)):\n",
    "        tokens.append(re.split(regular_exp, str(M[i]).replace('[', '').replace(']', '').replace(\"'\",'')))\n",
    "    \n",
    "    return tokens"
   ]
  },
  {
   "cell_type": "markdown",
   "id": "43f2957e",
   "metadata": {},
   "source": [
    "#### Teste para a entrada 1"
   ]
  },
  {
   "cell_type": "code",
   "execution_count": 5,
   "id": "b3c86caf",
   "metadata": {},
   "outputs": [
    {
     "name": "stdout",
     "output_type": "stream",
     "text": [
      "['O', 'peã', 'e', 'o', 'caval', 'são', 'pec', 'de', 'xadrez', '', 'O', 'caval', 'é', 'o', 'melhor', 'do', 'jog', '']\n",
      "['A', 'jog', 'envolv', 'a', 'torr', '', 'o', 'peã', 'e', 'o', 'rei', '']\n",
      "['O', 'peã', 'lac', 'o', 'boi']\n",
      "['Caval', 'de', 'rodei', '']\n",
      "['Polic', 'o', 'jog', 'no', 'xadrez', '']\n"
     ]
    }
   ],
   "source": [
    "tokens1 = tokenizacao(M1, separadores1)\n",
    "\n",
    "for i in range(len(tokens1)):\n",
    "    print(tokens1[i])"
   ]
  },
  {
   "cell_type": "markdown",
   "id": "ec76f6d2",
   "metadata": {},
   "source": [
    "#### Teste para a entrada 2"
   ]
  },
  {
   "cell_type": "code",
   "execution_count": 6,
   "id": "44b10309",
   "metadata": {},
   "outputs": [
    {
     "name": "stdout",
     "output_type": "stream",
     "text": [
      "['Parasita', 'é', 'o', 'grande', 'vencedor', 'do', 'Oscar', '2020', '', 'com', 'quatro', 'prêmios']\n",
      "['Green', 'Book', '', 'Roma', 'e', 'Bohemian', 'Rhapsody', 'são', 'os', 'principais', 'vencedores', 'do', 'Oscar', '2019']\n",
      "['Oscar', '2020', '', 'Confira', 'lista', 'completa', 'de', 'vencedores', '', 'Parasita', 'e', '1917', 'foram', 'os', 'grandes', 'vencedores', 'da', 'noite']\n",
      "['Em', 'boa', 'fase', '', 'Oscar', 'sonha', 'em', 'jogar', 'a', 'Copa', 'do', 'Mundo', 'da', 'Rússia']\n",
      "['Conheça', 'os', 'indicados', 'ao', 'Oscar', '2020', '', 'Cerimônia', 'de', 'premiação', 'acontece', 'em', 'fevereiro']\n",
      "['Oscar', 'Schmidt', 'receberá', 'Troféu', 'no', 'Prêmio', 'Brasil', 'Olímpico', '2019', '', 'Jogador', 'de', 'basquete', 'com', 'mais', 'pontos', 'em', 'Jogos', 'Olímpicos', '']\n",
      "['Seleção', 'brasileira', 'vai', 'observar', 'de', '35', 'a', '40', 'jogadores', 'para', 'definir', 'lista', 'da', 'Copa', 'América']\n",
      "['Oscar', '2020', '', 'saiba', 'como', 'é', 'a', 'escolha', 'dos', 'jurados', 'e', 'como', 'eles', 'votam']\n",
      "['Bem', '', 'Amigos', '', 'discute', 'lista', 'da', 'Seleção', '', 'e', 'Galvão', 'dá', 'recado', 'a', 'Tite', '', 'Cadê', 'o', 'Luan', '']\n",
      "['IFAL-Maceió', 'convoca', 'aprovados', 'em', 'lista', 'de', 'espera', 'do', 'SISU', 'para', 'chamada', 'oral']\n",
      "['Arrascaeta', 'e', 'Matías', 'Viña', 'são', 'convocados', 'pelo', 'Uruguai', 'para', 'eliminatórias', 'da', 'Copa', '', 'Além', 'deles', '', 'há', 'outros', 'destaques', 'na', 'lista', '']\n",
      "['Oscar', 'do', 'Vinho', '', 'confira', 'os', 'rótulos', 'de', 'destaque', 'da', 'safra', '2018']\n",
      "['Parasita', 'é', 'o', 'vencedor', 'da', 'Palma', 'de', 'Ouro', 'no', 'Festival', 'de', 'Cannes']\n",
      "['Estatísticas', '', 'Brasileirão', 'Série', 'A', '', 'Os', 'artilheiros', 'e', 'garçons', 'da', 'temporada', '2020']\n",
      "['Setembro', 'chegou', '', 'Confira', 'o', 'calendário', 'da', 'temporada', '2020', '2021', 'do', 'futebol', 'europeu']\n"
     ]
    }
   ],
   "source": [
    "tokens2 = tokenizacao(M2, separadores2)\n",
    "\n",
    "for i in range(len(tokens2)):\n",
    "    print(tokens2[i])"
   ]
  },
  {
   "cell_type": "markdown",
   "id": "29a9c822",
   "metadata": {},
   "source": [
    "### Normalização"
   ]
  },
  {
   "cell_type": "code",
   "execution_count": 7,
   "id": "f29b7d93",
   "metadata": {},
   "outputs": [],
   "source": [
    "def normalizacao(tokens):\n",
    "    \n",
    "    tokens_normalizados = []\n",
    "    \n",
    "    for i in range(len(tokens)):\n",
    "        tokens_normalizados.append(list(map(lambda x: x.lower(), tokens[i])))  \n",
    "\n",
    "    return tokens_normalizados"
   ]
  },
  {
   "cell_type": "markdown",
   "id": "7a06e1fe",
   "metadata": {},
   "source": [
    "#### Teste para a entrada 1"
   ]
  },
  {
   "cell_type": "code",
   "execution_count": 8,
   "id": "fb96acac",
   "metadata": {},
   "outputs": [
    {
     "name": "stdout",
     "output_type": "stream",
     "text": [
      "['o', 'peã', 'e', 'o', 'caval', 'são', 'pec', 'de', 'xadrez', '', 'o', 'caval', 'é', 'o', 'melhor', 'do', 'jog', '']\n",
      "['a', 'jog', 'envolv', 'a', 'torr', '', 'o', 'peã', 'e', 'o', 'rei', '']\n",
      "['o', 'peã', 'lac', 'o', 'boi']\n",
      "['caval', 'de', 'rodei', '']\n",
      "['polic', 'o', 'jog', 'no', 'xadrez', '']\n"
     ]
    }
   ],
   "source": [
    "tokens_normalizados1 = normalizacao(tokens1)\n",
    "\n",
    "for i in range(len(tokens1)):\n",
    "    print(tokens_normalizados1[i])"
   ]
  },
  {
   "cell_type": "markdown",
   "id": "efab51d4",
   "metadata": {},
   "source": [
    "#### Teste para a entrada 2"
   ]
  },
  {
   "cell_type": "code",
   "execution_count": 9,
   "id": "6d57ca88",
   "metadata": {},
   "outputs": [
    {
     "name": "stdout",
     "output_type": "stream",
     "text": [
      "['parasita', 'é', 'o', 'grande', 'vencedor', 'do', 'oscar', '2020', '', 'com', 'quatro', 'prêmios']\n",
      "['green', 'book', '', 'roma', 'e', 'bohemian', 'rhapsody', 'são', 'os', 'principais', 'vencedores', 'do', 'oscar', '2019']\n",
      "['oscar', '2020', '', 'confira', 'lista', 'completa', 'de', 'vencedores', '', 'parasita', 'e', '1917', 'foram', 'os', 'grandes', 'vencedores', 'da', 'noite']\n",
      "['em', 'boa', 'fase', '', 'oscar', 'sonha', 'em', 'jogar', 'a', 'copa', 'do', 'mundo', 'da', 'rússia']\n",
      "['conheça', 'os', 'indicados', 'ao', 'oscar', '2020', '', 'cerimônia', 'de', 'premiação', 'acontece', 'em', 'fevereiro']\n",
      "['oscar', 'schmidt', 'receberá', 'troféu', 'no', 'prêmio', 'brasil', 'olímpico', '2019', '', 'jogador', 'de', 'basquete', 'com', 'mais', 'pontos', 'em', 'jogos', 'olímpicos', '']\n",
      "['seleção', 'brasileira', 'vai', 'observar', 'de', '35', 'a', '40', 'jogadores', 'para', 'definir', 'lista', 'da', 'copa', 'américa']\n",
      "['oscar', '2020', '', 'saiba', 'como', 'é', 'a', 'escolha', 'dos', 'jurados', 'e', 'como', 'eles', 'votam']\n",
      "['bem', '', 'amigos', '', 'discute', 'lista', 'da', 'seleção', '', 'e', 'galvão', 'dá', 'recado', 'a', 'tite', '', 'cadê', 'o', 'luan', '']\n",
      "['ifal-maceió', 'convoca', 'aprovados', 'em', 'lista', 'de', 'espera', 'do', 'sisu', 'para', 'chamada', 'oral']\n",
      "['arrascaeta', 'e', 'matías', 'viña', 'são', 'convocados', 'pelo', 'uruguai', 'para', 'eliminatórias', 'da', 'copa', '', 'além', 'deles', '', 'há', 'outros', 'destaques', 'na', 'lista', '']\n",
      "['oscar', 'do', 'vinho', '', 'confira', 'os', 'rótulos', 'de', 'destaque', 'da', 'safra', '2018']\n",
      "['parasita', 'é', 'o', 'vencedor', 'da', 'palma', 'de', 'ouro', 'no', 'festival', 'de', 'cannes']\n",
      "['estatísticas', '', 'brasileirão', 'série', 'a', '', 'os', 'artilheiros', 'e', 'garçons', 'da', 'temporada', '2020']\n",
      "['setembro', 'chegou', '', 'confira', 'o', 'calendário', 'da', 'temporada', '2020', '2021', 'do', 'futebol', 'europeu']\n"
     ]
    }
   ],
   "source": [
    "tokens_normalizados2 = normalizacao(tokens2)\n",
    "\n",
    "for i in range(len(tokens2)):\n",
    "    print(tokens_normalizados2[i])"
   ]
  },
  {
   "cell_type": "markdown",
   "id": "503962a0",
   "metadata": {},
   "source": [
    "### Remoção de stopwords"
   ]
  },
  {
   "cell_type": "code",
   "execution_count": 10,
   "id": "961d3863",
   "metadata": {},
   "outputs": [],
   "source": [
    "def remocao_stopword(tokens, stopwords):\n",
    "\n",
    "    for i in range(len(tokens)):\n",
    "        for stopword in stopwords:\n",
    "            if stopword in tokens[i]:\n",
    "                tokens[i].remove(stopword)\n",
    "\n",
    "    return tokens"
   ]
  },
  {
   "cell_type": "markdown",
   "id": "9e235802",
   "metadata": {},
   "source": [
    "#### Teste para a entrada 1"
   ]
  },
  {
   "cell_type": "code",
   "execution_count": 11,
   "id": "91b85fea",
   "metadata": {},
   "outputs": [
    {
     "name": "stdout",
     "output_type": "stream",
     "text": [
      "['peã', 'o', 'caval', 'pec', 'xadrez', '', 'o', 'caval', 'o', 'melhor', 'jog', '']\n",
      "['jog', 'envolv', 'a', 'torr', '', 'peã', 'o', 'rei', '']\n",
      "['peã', 'lac', 'o', 'boi']\n",
      "['caval', 'rodei', '']\n",
      "['polic', 'jog', 'xadrez', '']\n"
     ]
    }
   ],
   "source": [
    "tokens_sem_stopwords1 = remocao_stopword(tokens_normalizados1, stopwords1)\n",
    "\n",
    "for i in range(len(tokens_sem_stopwords1)):\n",
    "    print(tokens_sem_stopwords1[i])"
   ]
  },
  {
   "cell_type": "markdown",
   "id": "78b17063",
   "metadata": {},
   "source": [
    "#### Teste para a entrada 2"
   ]
  },
  {
   "cell_type": "code",
   "execution_count": 12,
   "id": "d249e2b8",
   "metadata": {},
   "outputs": [
    {
     "name": "stdout",
     "output_type": "stream",
     "text": [
      "['parasita', 'grande', 'vencedor', 'oscar', '2020', '', 'quatro', 'prêmios']\n",
      "['green', 'book', '', 'roma', 'bohemian', 'rhapsody', 'principais', 'vencedores', 'oscar', '2019']\n",
      "['oscar', '2020', '', 'confira', 'lista', 'completa', 'vencedores', '', 'parasita', '1917', 'foram', 'grandes', 'vencedores', 'noite']\n",
      "['boa', 'fase', '', 'oscar', 'sonha', 'em', 'jogar', 'copa', 'mundo', 'rússia']\n",
      "['conheça', 'indicados', 'oscar', '2020', '', 'cerimônia', 'premiação', 'acontece', 'fevereiro']\n",
      "['oscar', 'schmidt', 'receberá', 'troféu', 'prêmio', 'brasil', 'olímpico', '2019', '', 'jogador', 'basquete', 'mais', 'pontos', 'jogos', 'olímpicos', '']\n",
      "['seleção', 'brasileira', 'vai', 'observar', '35', '40', 'jogadores', 'definir', 'lista', 'copa', 'américa']\n",
      "['oscar', '2020', '', 'saiba', 'escolha', 'jurados', 'como', 'votam']\n",
      "['bem', '', 'amigos', '', 'discute', 'lista', 'seleção', '', 'galvão', 'dá', 'recado', 'tite', '', 'cadê', 'luan', '']\n",
      "['ifal-maceió', 'convoca', 'aprovados', 'lista', 'espera', 'sisu', 'chamada', 'oral']\n",
      "['arrascaeta', 'matías', 'viña', 'convocados', 'uruguai', 'eliminatórias', 'copa', '', 'além', 'deles', '', 'há', 'outros', 'destaques', 'lista', '']\n",
      "['oscar', 'vinho', '', 'confira', 'rótulos', 'destaque', 'safra', '2018']\n",
      "['parasita', 'vencedor', 'palma', 'ouro', 'festival', 'de', 'cannes']\n",
      "['estatísticas', '', 'brasileirão', 'série', '', 'artilheiros', 'garçons', 'temporada', '2020']\n",
      "['setembro', 'chegou', '', 'confira', 'calendário', 'temporada', '2020', '2021', 'futebol', 'europeu']\n"
     ]
    }
   ],
   "source": [
    "tokens_sem_stopwords2 = remocao_stopword(tokens_normalizados2, stopwords2)\n",
    "\n",
    "for i in range(len(tokens_sem_stopwords2)):\n",
    "    print(tokens_sem_stopwords2[i])"
   ]
  },
  {
   "cell_type": "markdown",
   "id": "b6121f49",
   "metadata": {},
   "source": [
    "### Matriz de incidência"
   ]
  },
  {
   "cell_type": "code",
   "execution_count": 13,
   "id": "48cb5ba2",
   "metadata": {},
   "outputs": [],
   "source": [
    "def matriz_incidencia(tokens):\n",
    "    \n",
    "    dicionario = {}\n",
    "    lista_dicionarios = []\n",
    "    \n",
    "    for x in range(len(tokens)):\n",
    "        dicionario = {i:tokens[x].count(i) for i in tokens[x]}\n",
    "        lista_dicionarios.append(dicionario)\n",
    "    \n",
    "    contador = collections.Counter()\n",
    "    \n",
    "    for dicionario in lista_dicionarios:\n",
    "        contador.update(dicionario)\n",
    "    \n",
    "    resultado = dict(contador)\n",
    "    \n",
    "    return resultado"
   ]
  },
  {
   "cell_type": "markdown",
   "id": "485fd4b7",
   "metadata": {},
   "source": [
    "#### Teste para a entrada 1"
   ]
  },
  {
   "cell_type": "code",
   "execution_count": 14,
   "id": "aab139e1",
   "metadata": {},
   "outputs": [
    {
     "data": {
      "text/html": [
       "<div>\n",
       "<style scoped>\n",
       "    .dataframe tbody tr th:only-of-type {\n",
       "        vertical-align: middle;\n",
       "    }\n",
       "\n",
       "    .dataframe tbody tr th {\n",
       "        vertical-align: top;\n",
       "    }\n",
       "\n",
       "    .dataframe thead th {\n",
       "        text-align: right;\n",
       "    }\n",
       "</style>\n",
       "<table border=\"1\" class=\"dataframe\">\n",
       "  <thead>\n",
       "    <tr style=\"text-align: right;\">\n",
       "      <th></th>\n",
       "      <th>Frequência</th>\n",
       "    </tr>\n",
       "    <tr>\n",
       "      <th>Palavra</th>\n",
       "      <th></th>\n",
       "    </tr>\n",
       "  </thead>\n",
       "  <tbody>\n",
       "    <tr>\n",
       "      <th>peã</th>\n",
       "      <td>3</td>\n",
       "    </tr>\n",
       "    <tr>\n",
       "      <th>o</th>\n",
       "      <td>5</td>\n",
       "    </tr>\n",
       "    <tr>\n",
       "      <th>caval</th>\n",
       "      <td>3</td>\n",
       "    </tr>\n",
       "    <tr>\n",
       "      <th>pec</th>\n",
       "      <td>1</td>\n",
       "    </tr>\n",
       "    <tr>\n",
       "      <th>xadrez</th>\n",
       "      <td>2</td>\n",
       "    </tr>\n",
       "    <tr>\n",
       "      <th>melhor</th>\n",
       "      <td>1</td>\n",
       "    </tr>\n",
       "    <tr>\n",
       "      <th>jog</th>\n",
       "      <td>3</td>\n",
       "    </tr>\n",
       "    <tr>\n",
       "      <th>envolv</th>\n",
       "      <td>1</td>\n",
       "    </tr>\n",
       "    <tr>\n",
       "      <th>a</th>\n",
       "      <td>1</td>\n",
       "    </tr>\n",
       "    <tr>\n",
       "      <th>torr</th>\n",
       "      <td>1</td>\n",
       "    </tr>\n",
       "    <tr>\n",
       "      <th>rei</th>\n",
       "      <td>1</td>\n",
       "    </tr>\n",
       "    <tr>\n",
       "      <th>lac</th>\n",
       "      <td>1</td>\n",
       "    </tr>\n",
       "    <tr>\n",
       "      <th>boi</th>\n",
       "      <td>1</td>\n",
       "    </tr>\n",
       "    <tr>\n",
       "      <th>rodei</th>\n",
       "      <td>1</td>\n",
       "    </tr>\n",
       "    <tr>\n",
       "      <th>polic</th>\n",
       "      <td>1</td>\n",
       "    </tr>\n",
       "  </tbody>\n",
       "</table>\n",
       "</div>"
      ],
      "text/plain": [
       "         Frequência\n",
       "Palavra            \n",
       "peã               3\n",
       "o                 5\n",
       "caval             3\n",
       "pec               1\n",
       "xadrez            2\n",
       "melhor            1\n",
       "jog               3\n",
       "envolv            1\n",
       "a                 1\n",
       "torr              1\n",
       "rei               1\n",
       "lac               1\n",
       "boi               1\n",
       "rodei             1\n",
       "polic             1"
      ]
     },
     "execution_count": 14,
     "metadata": {},
     "output_type": "execute_result"
    }
   ],
   "source": [
    "matriz1 = matriz_incidencia(tokens_sem_stopwords1)\n",
    "df1 = pd.DataFrame(matriz1.items(), columns = [\"Palavra\", \"Frequência\"]).drop(5)\n",
    "df1.set_index(\"Palavra\")"
   ]
  },
  {
   "cell_type": "markdown",
   "id": "6151c479",
   "metadata": {},
   "source": [
    "#### Teste para a entrada 2"
   ]
  },
  {
   "cell_type": "code",
   "execution_count": 15,
   "id": "24e7c7fa",
   "metadata": {},
   "outputs": [
    {
     "data": {
      "text/html": [
       "<div>\n",
       "<style scoped>\n",
       "    .dataframe tbody tr th:only-of-type {\n",
       "        vertical-align: middle;\n",
       "    }\n",
       "\n",
       "    .dataframe tbody tr th {\n",
       "        vertical-align: top;\n",
       "    }\n",
       "\n",
       "    .dataframe thead th {\n",
       "        text-align: right;\n",
       "    }\n",
       "</style>\n",
       "<table border=\"1\" class=\"dataframe\">\n",
       "  <thead>\n",
       "    <tr style=\"text-align: right;\">\n",
       "      <th></th>\n",
       "      <th>Frequência</th>\n",
       "    </tr>\n",
       "    <tr>\n",
       "      <th>Palavra</th>\n",
       "      <th></th>\n",
       "    </tr>\n",
       "  </thead>\n",
       "  <tbody>\n",
       "    <tr>\n",
       "      <th>parasita</th>\n",
       "      <td>3</td>\n",
       "    </tr>\n",
       "    <tr>\n",
       "      <th>grande</th>\n",
       "      <td>1</td>\n",
       "    </tr>\n",
       "    <tr>\n",
       "      <th>vencedor</th>\n",
       "      <td>2</td>\n",
       "    </tr>\n",
       "    <tr>\n",
       "      <th>oscar</th>\n",
       "      <td>8</td>\n",
       "    </tr>\n",
       "    <tr>\n",
       "      <th>2020</th>\n",
       "      <td>6</td>\n",
       "    </tr>\n",
       "    <tr>\n",
       "      <th>...</th>\n",
       "      <td>...</td>\n",
       "    </tr>\n",
       "    <tr>\n",
       "      <th>chegou</th>\n",
       "      <td>1</td>\n",
       "    </tr>\n",
       "    <tr>\n",
       "      <th>calendário</th>\n",
       "      <td>1</td>\n",
       "    </tr>\n",
       "    <tr>\n",
       "      <th>2021</th>\n",
       "      <td>1</td>\n",
       "    </tr>\n",
       "    <tr>\n",
       "      <th>futebol</th>\n",
       "      <td>1</td>\n",
       "    </tr>\n",
       "    <tr>\n",
       "      <th>europeu</th>\n",
       "      <td>1</td>\n",
       "    </tr>\n",
       "  </tbody>\n",
       "</table>\n",
       "<p>112 rows × 1 columns</p>\n",
       "</div>"
      ],
      "text/plain": [
       "            Frequência\n",
       "Palavra               \n",
       "parasita             3\n",
       "grande               1\n",
       "vencedor             2\n",
       "oscar                8\n",
       "2020                 6\n",
       "...                ...\n",
       "chegou               1\n",
       "calendário           1\n",
       "2021                 1\n",
       "futebol              1\n",
       "europeu              1\n",
       "\n",
       "[112 rows x 1 columns]"
      ]
     },
     "execution_count": 15,
     "metadata": {},
     "output_type": "execute_result"
    }
   ],
   "source": [
    "matriz2 = matriz_incidencia(tokens_sem_stopwords2)\n",
    "df2 = pd.DataFrame(matriz2.items(), columns = [\"Palavra\", \"Frequência\"])\n",
    "df2.set_index(\"Palavra\")"
   ]
  }
 ],
 "metadata": {
  "kernelspec": {
   "display_name": "Python 3",
   "language": "python",
   "name": "python3"
  },
  "language_info": {
   "codemirror_mode": {
    "name": "ipython",
    "version": 3
   },
   "file_extension": ".py",
   "mimetype": "text/x-python",
   "name": "python",
   "nbconvert_exporter": "python",
   "pygments_lexer": "ipython3",
   "version": "3.7.0"
  }
 },
 "nbformat": 4,
 "nbformat_minor": 5
}
